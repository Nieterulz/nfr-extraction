{
  "nbformat": 4,
  "nbformat_minor": 0,
  "metadata": {
    "colab": {
      "name": "generarBasedeDatos.ipynb",
      "provenance": [],
      "collapsed_sections": [],
      "toc_visible": true
    },
    "kernelspec": {
      "name": "python3",
      "display_name": "Python 3"
    }
  },
  "cells": [
    {
      "cell_type": "markdown",
      "metadata": {
        "id": "EWC31gk_pWbr"
      },
      "source": [
        "# Generación base de datos\n",
        "Este notebook trata de generar una base de datos a partir de unos archivos json que pueden encontrar en mi perfil de [GitHub](https://github.com/Nieterulz/nfr-extraction/tree/main/json).\n",
        "\n",
        "Es importante que para que el código funcione se indique en la variable RUTA_JSON el directorio exacto donde se encuentran estos archivos.\n",
        "\n",
        "### Importamos librerías necesarias"
      ]
    },
    {
      "cell_type": "code",
      "metadata": {
        "id": "z90eBu7Mh1_Q"
      },
      "source": [
        "import json\n",
        "import pandas as pd\n",
        "import os"
      ],
      "execution_count": null,
      "outputs": []
    },
    {
      "cell_type": "markdown",
      "metadata": {
        "id": "Q7AONffLYK3d"
      },
      "source": [
        "### Definimos una función que devolverá el contenido que necesitamos del archivo JSON que le pasemos"
      ]
    },
    {
      "cell_type": "code",
      "metadata": {
        "id": "uJtWpjmGYP2e"
      },
      "source": [
        "def readJson(file):\n",
        "    jsonFile = open(RUTA_JSON + file, \"r\", encoding=\"utf8\")\n",
        "    jsonData = jsonFile.read()\n",
        "    jsonData = json.loads(jsonData)\n",
        "    jsonData = jsonData['content']\n",
        "    return jsonData"
      ],
      "execution_count": null,
      "outputs": []
    },
    {
      "cell_type": "markdown",
      "metadata": {
        "id": "OS0pw_5utNeM"
      },
      "source": [
        "### Definimos una función que devolverá un diccionario con los valores de clasificación para cada categoría"
      ]
    },
    {
      "cell_type": "code",
      "metadata": {
        "id": "LQoIN0W5tKNF"
      },
      "source": [
        "def readClassifications(booleanClassifications):\n",
        "    classifications = {}\n",
        "\n",
        "    for c in categories:\n",
        "        try:\n",
        "            classifications[c] = int(\n",
        "                booleanClassifications[c][\"value\"] == \"TRUE\")\n",
        "            pass\n",
        "        except Exception:\n",
        "            classifications[c] = 0\n",
        "            pass\n",
        "\n",
        "    classifications[\"not applicable\"] = 1 if(sum(classifications.values()) == 0) else 0\n",
        "\n",
        "    return classifications"
      ],
      "execution_count": null,
      "outputs": []
    },
    {
      "cell_type": "markdown",
      "metadata": {
        "id": "X55XIRRTt3Vk"
      },
      "source": [
        "### Definimos una función que devolverá un dataframe con los datos que necesitamos del archivo json que pasemos como parámetro "
      ]
    },
    {
      "cell_type": "code",
      "metadata": {
        "id": "6RVJe-e3t2gN"
      },
      "source": [
        "def generateDataframe(file):\n",
        "    jsonData = readJson(file)\n",
        "    file = file.replace('.json', '')\n",
        "    columns = ['sentences'] + categories\n",
        "    db = pd.DataFrame(columns=columns)\n",
        "\n",
        "    for element in jsonData:\n",
        "        sentence = element['sentence']\n",
        "        classification = readClassifications(element['booleanClassifications'])\n",
        "        row = {\n",
        "            'sentences': sentence,\n",
        "        }\n",
        "        for c in categories:\n",
        "            row[c] = classification[c]\n",
        "\n",
        "        db = db.append(row, ignore_index=True)\n",
        "\n",
        "    return db"
      ],
      "execution_count": null,
      "outputs": []
    },
    {
      "cell_type": "markdown",
      "metadata": {
        "id": "hfDPgy1BuRrp"
      },
      "source": [
        "### El siguiente código se encarga de generar el archivo excel que será nuestra base de datos"
      ]
    },
    {
      "cell_type": "code",
      "metadata": {
        "id": "Ft0H3a-2iIBx"
      },
      "source": [
        "RUTA_JSON = \"./drive/My Drive/json/\" # Ruta donde estarán los json\n",
        "RUTA_DB = \"./drive/My Drive/xlsx/\"\n",
        "\n",
        "files = os.listdir(RUTA_JSON)\n",
        "\n",
        "\n",
        "categories = [\n",
        "    \"access control\", \"audit\", \"availability\", \"legal\", \"look and feel\",\n",
        "    \"maintainability\", \"operational\", \"privacy\", \"recoverability\", \"capacity and performance\",\n",
        "    \"reliability\", \"security\", \"usability\", \"other nonfunctional\", \"functional\", \"not applicable\"\n",
        "]\n",
        "\n",
        "columns = ['sentences'] + categories\n",
        "\n",
        "db = pd.DataFrame(columns=columns)\n",
        "\n",
        "files = files[1:]\n",
        "for file in files:\n",
        "    \n",
        "        db = db.append(generateDataframe(file), ignore_index=True)\n",
        "\n",
        "db.to_excel(RUTA_DB + \"db.xlsx\")"
      ],
      "execution_count": null,
      "outputs": []
    },
    {
      "cell_type": "code",
      "metadata": {
        "id": "fWdbhZtkYtm4"
      },
      "source": [
        ""
      ],
      "execution_count": null,
      "outputs": []
    }
  ]
}