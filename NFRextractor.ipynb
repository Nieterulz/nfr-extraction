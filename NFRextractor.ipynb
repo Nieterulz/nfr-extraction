{
  "nbformat": 4,
  "nbformat_minor": 0,
  "metadata": {
    "colab": {
      "name": "NFRextractor.ipynb",
      "provenance": [],
      "collapsed_sections": []
    },
    "kernelspec": {
      "name": "python3",
      "display_name": "Python 3"
    },
    "widgets": {
      "application/vnd.jupyter.widget-state+json": {
        "9258aa41328d414bbcff37343b4bf6a3": {
          "model_module": "@jupyter-widgets/controls",
          "model_name": "DropdownModel",
          "state": {
            "_options_labels": [
              "Frase individual",
              "Conjunto de frases"
            ],
            "_view_name": "DropdownView",
            "style": "IPY_MODEL_5f245837b7854ac5a7d3355fb53a8a05",
            "_dom_classes": [],
            "description": "",
            "_model_name": "DropdownModel",
            "index": 1,
            "_view_module": "@jupyter-widgets/controls",
            "_model_module_version": "1.5.0",
            "_view_count": null,
            "disabled": false,
            "_view_module_version": "1.5.0",
            "description_tooltip": null,
            "_model_module": "@jupyter-widgets/controls",
            "layout": "IPY_MODEL_c3040fb27f1349db8cc3579d913b8c11"
          }
        },
        "5f245837b7854ac5a7d3355fb53a8a05": {
          "model_module": "@jupyter-widgets/controls",
          "model_name": "DescriptionStyleModel",
          "state": {
            "_view_name": "StyleView",
            "_model_name": "DescriptionStyleModel",
            "description_width": "",
            "_view_module": "@jupyter-widgets/base",
            "_model_module_version": "1.5.0",
            "_view_count": null,
            "_view_module_version": "1.2.0",
            "_model_module": "@jupyter-widgets/controls"
          }
        },
        "c3040fb27f1349db8cc3579d913b8c11": {
          "model_module": "@jupyter-widgets/base",
          "model_name": "LayoutModel",
          "state": {
            "_view_name": "LayoutView",
            "grid_template_rows": null,
            "right": null,
            "justify_content": null,
            "_view_module": "@jupyter-widgets/base",
            "overflow": null,
            "_model_module_version": "1.2.0",
            "_view_count": null,
            "flex_flow": null,
            "width": null,
            "min_width": null,
            "border": null,
            "align_items": null,
            "bottom": null,
            "_model_module": "@jupyter-widgets/base",
            "top": null,
            "grid_column": null,
            "overflow_y": null,
            "overflow_x": null,
            "grid_auto_flow": null,
            "grid_area": null,
            "grid_template_columns": null,
            "flex": null,
            "_model_name": "LayoutModel",
            "justify_items": null,
            "grid_row": null,
            "max_height": null,
            "align_content": null,
            "visibility": null,
            "align_self": null,
            "height": null,
            "min_height": null,
            "padding": null,
            "grid_auto_rows": null,
            "grid_gap": null,
            "max_width": null,
            "order": null,
            "_view_module_version": "1.2.0",
            "grid_template_areas": null,
            "object_position": null,
            "object_fit": null,
            "grid_auto_columns": null,
            "margin": null,
            "display": null,
            "left": null
          }
        }
      }
    }
  },
  "cells": [
    {
      "cell_type": "markdown",
      "metadata": {
        "id": "J3nhwLkhG23B"
      },
      "source": [
        "# Extracción de requisitos no funcionales\n",
        "En este notebook utilizamos los modelos exportados para poder clasificar una frase o un conjunto de frases. Los modelos que se utilizarán en este notebook serán los que se encuentren en el directorio **/models** del repositorio **nfr-extraction**. \n",
        "\n",
        "Por defecto estaremos utilizando SVM, aunque si ya hemos ejecutado el notebook **results.ipynb**, habremos sobreescrito los modelos del directorio **/models** y estaremos utilizando los que hayamos indicado en esa ejecución."
      ]
    },
    {
      "cell_type": "markdown",
      "metadata": {
        "id": "JJnsgz7NGK5C"
      },
      "source": [
        "### Activamos drive"
      ]
    },
    {
      "cell_type": "code",
      "metadata": {
        "colab": {
          "base_uri": "https://localhost:8080/"
        },
        "id": "6qTOQd1sw8ib",
        "outputId": "5b15d913-af83-409a-cd6f-4910e139611c"
      },
      "source": [
        "from google.colab import drive\n",
        "from google.colab import files\n",
        "drive.mount('/content/drive')"
      ],
      "execution_count": null,
      "outputs": [
        {
          "output_type": "stream",
          "text": [
            "Drive already mounted at /content/drive; to attempt to forcibly remount, call drive.mount(\"/content/drive\", force_remount=True).\n"
          ],
          "name": "stdout"
        }
      ]
    },
    {
      "cell_type": "markdown",
      "metadata": {
        "id": "3csT4cm4GPRw"
      },
      "source": [
        "### Importamos librerías necesarias"
      ]
    },
    {
      "cell_type": "code",
      "metadata": {
        "id": "UiiI6bmcGOQ5",
        "colab": {
          "base_uri": "https://localhost:8080/"
        },
        "outputId": "d1c0c27c-c728-4ed5-d6e5-9bbefe9dd944"
      },
      "source": [
        "import re\n",
        "import io\n",
        "import ipywidgets as widgets\n",
        "from joblib import load\n",
        "\n",
        "import nltk\n",
        "from nltk.corpus import wordnet\n",
        "\n",
        "\n",
        "nltk.download('punkt')\n",
        "nltk.download('stopwords')\n",
        "nltk.download('wordnet')\n",
        "nltk.download('averaged_perceptron_tagger')"
      ],
      "execution_count": null,
      "outputs": [
        {
          "output_type": "stream",
          "text": [
            "[nltk_data] Downloading package punkt to /root/nltk_data...\n",
            "[nltk_data]   Package punkt is already up-to-date!\n",
            "[nltk_data] Downloading package stopwords to /root/nltk_data...\n",
            "[nltk_data]   Package stopwords is already up-to-date!\n",
            "[nltk_data] Downloading package wordnet to /root/nltk_data...\n",
            "[nltk_data]   Package wordnet is already up-to-date!\n",
            "[nltk_data] Downloading package averaged_perceptron_tagger to\n",
            "[nltk_data]     /root/nltk_data...\n",
            "[nltk_data]   Package averaged_perceptron_tagger is already up-to-\n",
            "[nltk_data]       date!\n"
          ],
          "name": "stdout"
        },
        {
          "output_type": "execute_result",
          "data": {
            "text/plain": [
              "True"
            ]
          },
          "metadata": {
            "tags": []
          },
          "execution_count": 17
        }
      ]
    },
    {
      "cell_type": "markdown",
      "metadata": {
        "id": "xZcw_thtFrJg"
      },
      "source": [
        "### Definimos función que nos dice si una palabra es un adjetivo, un nombre, un verbo o un advervio."
      ]
    },
    {
      "cell_type": "code",
      "metadata": {
        "id": "R57PJPf0BgEc"
      },
      "source": [
        "def get_wordnet_pos(word):\n",
        "    tag = nltk.pos_tag([word])[0][1][0].upper()\n",
        "    tag_dict = {\"J\": wordnet.ADJ,\n",
        "                \"N\": wordnet.NOUN,\n",
        "                \"V\": wordnet.VERB,\n",
        "                \"R\": wordnet.ADV}\n",
        "\n",
        "    return tag_dict.get(tag, wordnet.NOUN)"
      ],
      "execution_count": null,
      "outputs": []
    },
    {
      "cell_type": "markdown",
      "metadata": {
        "id": "MW7AoDiIFsY1"
      },
      "source": [
        "### Definimos función que recibe una cadena de texto y devuelve el texto procesado."
      ]
    },
    {
      "cell_type": "code",
      "metadata": {
        "id": "YadonwtnAIRX"
      },
      "source": [
        "def preprocess(sentence):\n",
        "    # Convertimos a minúsculas\n",
        "    new_text = sentence.lower()\n",
        "    \n",
        "    # Eliminamos puntuación\n",
        "    new_text = re.sub(r'[^\\w\\s]', '', new_text)\n",
        "\n",
        "    # Dividimos en tokens\n",
        "    tokens = nltk.tokenize.TreebankWordTokenizer().tokenize(new_text)\n",
        "\n",
        "    # Eliminamos stopwords\n",
        "    tokens = [word for word in tokens if not word in nltk.corpus.stopwords.words('english')]\n",
        "\n",
        "    # Stemming\n",
        "    # stemmer = nltk.stem.PorterStemmer()\n",
        "    # new_text = ' '.join([stemmer.stem(w) for w in tokens])\n",
        "    \n",
        "    # lemma\n",
        "    lemmatizer = nltk.stem.WordNetLemmatizer()\n",
        "    new_text = ' '.join([lemmatizer.lemmatize(w, get_wordnet_pos(w)) for w in tokens])\n",
        "\n",
        "    # new_text = ' '.join([w for w in tokens])\n",
        "\n",
        "    # Reemplazamos números por #s\n",
        "    if bool(re.search(r'\\d', new_text)):\n",
        "        new_text = re.sub('[0-9]{5,}', '#####', new_text)\n",
        "        new_text = re.sub('[0-9]{4}', '####', new_text)\n",
        "        new_text = re.sub('[0-9]{3}', '###', new_text)\n",
        "        new_text = re.sub('[0-9]{2}', '##', new_text)\n",
        "        # Cuando existe un solo número lo eliminamos\n",
        "        new_text = re.sub('[0-9]{1}', '', new_text)\n",
        "\n",
        "    return new_text"
      ],
      "execution_count": null,
      "outputs": []
    },
    {
      "cell_type": "markdown",
      "metadata": {
        "id": "fDh46StqJGc_"
      },
      "source": [
        "### Modos de ejecución \n",
        "Para utilizar el clasificador tenemos dos modos de ejecución:\n",
        "1. Clasificar frase individual.\n",
        "2. Clasificar conjunto de frases.\n",
        "\n",
        "Para ello sólo tenemos que seleccionar en el siguiente desplegable el modo de ejecución que queremos. \n"
      ]
    },
    {
      "cell_type": "code",
      "metadata": {
        "colab": {
          "base_uri": "https://localhost:8080/",
          "height": 67,
          "referenced_widgets": [
            "9258aa41328d414bbcff37343b4bf6a3",
            "5f245837b7854ac5a7d3355fb53a8a05",
            "c3040fb27f1349db8cc3579d913b8c11"
          ]
        },
        "id": "LorMGEKmOK4W",
        "outputId": "570b5438-8f01-4c72-8fdc-df32fb126dff"
      },
      "source": [
        "mode_list = [('Frase individual', 0), ('Conjunto de frases', 1)]\n",
        "mode_picker = widgets.Dropdown(options=mode_list)\n",
        "print(\"Selecciona un modo de ejecución: \")\n",
        "mode_picker"
      ],
      "execution_count": null,
      "outputs": [
        {
          "output_type": "stream",
          "text": [
            "Selecciona un modo de ejecución: \n"
          ],
          "name": "stdout"
        },
        {
          "output_type": "display_data",
          "data": {
            "application/vnd.jupyter.widget-view+json": {
              "model_id": "9258aa41328d414bbcff37343b4bf6a3",
              "version_minor": 0,
              "version_major": 2
            },
            "text/plain": [
              "Dropdown(options=(('Frase individual', 0), ('Conjunto de frases', 1)), value=0)"
            ]
          },
          "metadata": {
            "tags": []
          }
        }
      ]
    },
    {
      "cell_type": "markdown",
      "metadata": {
        "id": "zYZLLNIIT2cG"
      },
      "source": [
        "En este punto debemos, o introducir una frase o subir un archivo **.txt** con un conjunto de frases, según la opción elegida en la celda anterior. Para la lectura correcta del archivo las frases deben ir escritas en líneas distintas."
      ]
    },
    {
      "cell_type": "code",
      "metadata": {
        "colab": {
          "resources": {
            "http://localhost:8080/nbextensions/google.colab/files.js": {
              "data": "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",
              "ok": true,
              "headers": [
                [
                  "content-type",
                  "application/javascript"
                ]
              ],
              "status": 200,
              "status_text": ""
            }
          },
          "base_uri": "https://localhost:8080/",
          "height": 73
        },
        "id": "u7uOR-gmMgC4",
        "outputId": "6d4873ed-50ce-4acd-d9b1-4a13023e8e93"
      },
      "source": [
        "if mode_picker.value == 0:\n",
        "    sentences = input('Introduce una frase para extraer sus requisitos no funcionales: ')\n",
        "    sentences = [sentences]\n",
        "else:\n",
        "    uploaded = files.upload()\n",
        "    sentences_file = open(list(uploaded.keys())[-1], 'r') \n",
        "    sentences = sentences_file.readlines()\n",
        "    sentences = [sentence.strip() for sentence in sentences]"
      ],
      "execution_count": null,
      "outputs": [
        {
          "output_type": "display_data",
          "data": {
            "text/html": [
              "\n",
              "     <input type=\"file\" id=\"files-41f0c7e4-b0e9-4a49-97c9-682af25f3c9e\" name=\"files[]\" multiple disabled\n",
              "        style=\"border:none\" />\n",
              "     <output id=\"result-41f0c7e4-b0e9-4a49-97c9-682af25f3c9e\">\n",
              "      Upload widget is only available when the cell has been executed in the\n",
              "      current browser session. Please rerun this cell to enable.\n",
              "      </output>\n",
              "      <script src=\"/nbextensions/google.colab/files.js\"></script> "
            ],
            "text/plain": [
              "<IPython.core.display.HTML object>"
            ]
          },
          "metadata": {
            "tags": []
          }
        },
        {
          "output_type": "stream",
          "text": [
            "Saving sentences.txt to sentences.txt\n"
          ],
          "name": "stdout"
        }
      ]
    },
    {
      "cell_type": "markdown",
      "metadata": {
        "id": "_itv9aLIUi0H"
      },
      "source": [
        "### Indicamos categorías\n",
        "Aquí definimos las categorías existentes así como las traducciones de estas al español. Como podemos ver no hemos incluido la categoría *not applicable*. Esto es debido a que esta categoría sólo se asignarán a aquellas frases que no tengan otras categorías."
      ]
    },
    {
      "cell_type": "code",
      "metadata": {
        "colab": {
          "base_uri": "https://localhost:8080/"
        },
        "id": "rf08OhbMHiIT",
        "outputId": "7b9690d1-4a91-484b-c9c1-49b49fab090e"
      },
      "source": [
        "# Indicamos las categorías existentes, excepto \n",
        "categories = [\n",
        "    \"access control\", \"audit\", \"availability\", \"legal\", \"look and feel\",\n",
        "    \"maintainability\", \"operational\", \"privacy\", \"recoverability\", \"capacity and performance\",\n",
        "    \"reliability\", \"security\", \"usability\", \"other nonfunctional\", \"functional\"\n",
        "]\n",
        "# Creamos diccionario con las traducciones para cada categoría\n",
        "cat_translations = {\n",
        "    \"access control\": \"Control de acceso\", \n",
        "    \"audit\": \"Auditoría\",\n",
        "    \"availability\": \"Disponibilidad\",\n",
        "    \"legal\": \"Legal\",\n",
        "    \"look and feel\": \"Diseño\",\n",
        "    \"maintainability\": \"Mantenibilidad\",\n",
        "    \"operational\": \"Operacional\",\n",
        "    \"privacy\": \"Privacidad\",\n",
        "    \"recoverability\": \"Recuperabilidad\",\n",
        "    \"capacity and performance\": \"Rendimiento\",\n",
        "    \"reliability\": \"Fiabilidad\",\n",
        "    \"security\": \"Seguridad\",\n",
        "    \"usability\": \"Usabilidad\",\n",
        "    \"other nonfunctional\": \"Otros no funcionales\",\n",
        "    \"functional\": \"Funcional\",\n",
        "    \"not applicable\": \"No aplicable\"\n",
        "}\n",
        "\n",
        "\n",
        "processed_sentences = [preprocess(sentence) for sentence in sentences]\n",
        "\n",
        "vectorizer = load('./drive/My Drive/nfr-extraction/models/vectorizer.joblib')\n",
        "\n",
        "x_test = vectorizer.transform(processed_sentences)\n",
        "\n",
        "i = 0\n",
        "for sentence in processed_sentences:\n",
        "    requirements = []\n",
        "    # Pasamos la frase por cada clasificador (1 por categoría)\n",
        "    for category in categories:\n",
        "        model = load('./drive/My Drive/nfr-extraction/models/' + category.replace(\" \", \"\") + \".joblib\")\n",
        "        requirements.extend(model.predict([x_test.toarray()[i]]))\n",
        "\n",
        "    prediction = [category for indx, category in enumerate(categories) if requirements[indx]]\n",
        "    \n",
        "    if prediction == []:\n",
        "        prediction = ['not applicable']\n",
        "\n",
        "    # Mostramos categorías identificadas\n",
        "    print(\"\\n\\n\" + sentences[i])\n",
        "    print(\"Categorías identificadas: \", end=\"\")\n",
        "    for predict in prediction:\n",
        "        print(cat_translations[predict], end=\", \")\n",
        "    i += 1"
      ],
      "execution_count": null,
      "outputs": [
        {
          "output_type": "stream",
          "text": [
            "\n",
            "\n",
            "security entity\n",
            "Categorías identificadas: No aplicable, \n",
            "\n",
            "talking about papers and connection\n",
            "Categorías identificadas: No aplicable, \n",
            "\n",
            "And remember that OpenEMR's username and passwords are case sensitive.\n",
            "Categorías identificadas: Seguridad, \n",
            "\n",
            "A hashing algorithm with a security strength equal to or greater than SHA-1 (Secure Hash Algorithm (SHA-1) as specified by the National Institute of Standards and Technology (NIST) in FIPS PUB 180-4 (March 2012)) must be used to verify that electronic health information has not been altered.\n",
            "Categorías identificadas: Seguridad, \n",
            "\n",
            "The date, time, patient identification, user identification, and a description of the disclosure must be recorded for disclosures for treatment, payment, and health care operations, as these terms are defined at 45 CFR 164.501.\n",
            "Categorías identificadas: Privacidad, \n",
            "\n",
            "A covered entity may, consistent with applicable law and standards of ethical conduct, use or disclose protected health information, if the covered entity, in good faith, believes the use or disclosure:\n",
            "Categorías identificadas: Privacidad, "
          ],
          "name": "stdout"
        }
      ]
    },
    {
      "cell_type": "code",
      "metadata": {
        "colab": {
          "base_uri": "https://localhost:8080/",
          "height": 35
        },
        "id": "FuQBUNAKDN8m",
        "outputId": "ceb069e7-9cd9-43d6-fdf9-eadf40f31b28"
      },
      "source": [
        "s = \"Create a message digest in accordance with the standard specified in § 170.210©.\"\r\n",
        "\r\n",
        "# Convertimos a minúsculas\r\n",
        "new_text = sentence.lower()\r\n",
        "\r\n",
        "\r\n",
        "# Eliminamos puntuación\r\n",
        "new_text = re.sub(r'[^\\w\\s]', '', new_text)\r\n",
        "\r\n",
        "# Dividimos en tokens\r\n",
        "tokens = nltk.tokenize.TreebankWordTokenizer().tokenize(new_text)\r\n",
        "\r\n",
        "# Eliminamos stopwords\r\n",
        "tokens = [word for word in tokens if not word in nltk.corpus.stopwords.words('english')]\r\n",
        "\r\n",
        "# Stemming\r\n",
        "# stemmer = nltk.stem.PorterStemmer()\r\n",
        "# new_text = ' '.join([stemmer.stem(w) for w in tokens])\r\n",
        "\r\n",
        "# lemma\r\n",
        "lemmatizer = nltk.stem.WordNetLemmatizer()\r\n",
        "new_text = ' '.join([lemmatizer.lemmatize(w, get_wordnet_pos(w)) for w in tokens])\r\n",
        "\r\n",
        "# new_text = ' '.join([w for w in tokens])\r\n",
        "\r\n",
        "# Reemplazamos números por #s\r\n",
        "if bool(re.search(r'\\d', new_text)):\r\n",
        "    new_text = re.sub('[0-9]{5,}', '#####', new_text)\r\n",
        "    new_text = re.sub('[0-9]{4}', '####', new_text)\r\n",
        "    new_text = re.sub('[0-9]{3}', '###', new_text)\r\n",
        "    new_text = re.sub('[0-9]{2}', '##', new_text)\r\n",
        "    # Cuando existe un solo número lo eliminamos\r\n",
        "    new_text = re.sub('[0-9]{1}', '', new_text)"
      ],
      "execution_count": null,
      "outputs": [
        {
          "output_type": "execute_result",
          "data": {
            "application/vnd.google.colaboratory.intrinsic+json": {
              "type": "string"
            },
            "text/plain": [
              "'create message digest accordance standard specify #####'"
            ]
          },
          "metadata": {
            "tags": []
          },
          "execution_count": 34
        }
      ]
    }
  ]
}