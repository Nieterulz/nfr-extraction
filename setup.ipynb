{
  "nbformat": 4,
  "nbformat_minor": 0,
  "metadata": {
    "colab": {
      "name": "setup.ipynb",
      "provenance": [],
      "collapsed_sections": []
    },
    "kernelspec": {
      "name": "python3",
      "display_name": "Python 3"
    }
  },
  "cells": [
    {
      "cell_type": "markdown",
      "metadata": {
        "id": "AIEoReJnwlon"
      },
      "source": [
        "# Clonar repositorio\n",
        "En este notebook nos encargamos de clonar el repositorio del proyecto en el almacenamiento drive del usuario que quiera ejecutar los programas desarrollados.\n",
        "\n",
        "De esta manera los archivos necesarios para su ejecución como los json, bases de datos y rutas no tendrán que ser modificadas."
      ]
    },
    {
      "cell_type": "code",
      "metadata": {
        "colab": {
          "base_uri": "https://localhost:8080/"
        },
        "id": "mz-IgZyCvdX3",
        "outputId": "9ead7876-ea27-4dd6-ca3d-8265364811ef"
      },
      "source": [
        "from google.colab import drive\n",
        "drive.mount('/content/drive')\n",
        "\n",
        "%cd drive/My\\ Drive/\n",
        "!git clone https://github.com/Nieterulz/nfr-extraction.git"
      ],
      "execution_count": null,
      "outputs": [
        {
          "output_type": "stream",
          "text": [
            "Mounted at /content/drive\n",
            "/content/drive/My Drive\n",
            "Cloning into 'nfr-extraction'...\n",
            "remote: Enumerating objects: 23, done.\u001b[K\n",
            "remote: Counting objects: 100% (23/23), done.\u001b[K\n",
            "remote: Compressing objects: 100% (22/22), done.\u001b[K\n",
            "remote: Total 23 (delta 12), reused 0 (delta 0), pack-reused 0\u001b[K\n",
            "Unpacking objects: 100% (23/23), done.\n"
          ],
          "name": "stdout"
        }
      ]
    },
    {
      "cell_type": "markdown",
      "metadata": {
        "id": "8iqsR8VgyMeO"
      },
      "source": [
        "En el repositorio que hemos clonado podemos encontrar 3 tipos de notebooks:\n",
        "1.   **generateDB.ipynb** se encarga de generar la base de datos con la que trabajamos en los demás programas. Para ello usamos los archivos que se encuentran en la carpeta **json/** del repositorio. [![Open in Colab](https://colab.research.google.com/assets/colab-badge.svg)](https://colab.research.google.com/github/Nieterulz/nfr-extraction/blob/main/generateDB.ipynb)\n",
        "\n",
        "2.   **results.ipynb** se encarga de obtener los resultados de precisión, sensibilidad y F1 para cada uno de los clasificadores y los muestra en forma de tabla. Para ello necesitamos la base de datos resultante de ejecutar el notebook **generateDB**. Dicha base de datos ya se encuentra en el repositorio, por lo tanto no es necesario ejecutar el notebook anterior para el funcionamiento de éste. [![Open in Colab](https://colab.research.google.com/assets/colab-badge.svg)](https://colab.research.google.com/github/Nieterulz/nfr-extraction/blob/main/results.ipynb)\n",
        "\n",
        "3.   **NFRextractor.ipynb** se encarga de extraer de un conjunto de frases los requisitos no funcionales presentes en dicha frase. [![Open in Colab](https://colab.research.google.com/assets/colab-badge.svg)](https://colab.research.google.com/github/Nieterulz/nfr-extraction/blob/main/NFRextractor.ipynb)"
      ]
    }
  ]
}