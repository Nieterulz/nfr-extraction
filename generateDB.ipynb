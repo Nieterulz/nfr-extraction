{
  "nbformat": 4,
  "nbformat_minor": 0,
  "metadata": {
    "colab": {
      "name": "generateDB.ipynb",
      "provenance": [],
      "collapsed_sections": [],
      "toc_visible": true
    },
    "kernelspec": {
      "name": "python3",
      "display_name": "Python 3"
    }
  },
  "cells": [
    {
      "cell_type": "markdown",
      "metadata": {
        "id": "EWC31gk_pWbr"
      },
      "source": [
        "# Generación base de datos\n",
        "Este notebook trata de generar la base de datos que utilizamos en nuestro proyecto. Para ello utilizamos unos archivos json que se encuentran en el repositorio de [GitHub](https://github.com/Nieterulz/nfr-extraction) del trabajo.\n",
        "\n",
        "### Activamos Drive"
      ]
    },
    {
      "cell_type": "code",
      "metadata": {
        "colab": {
          "base_uri": "https://localhost:8080/"
        },
        "id": "mgRVv8L_DiNi",
        "outputId": "150dbfa9-8556-439d-f861-f830450b77b6"
      },
      "source": [
        "from google.colab import drive\n",
        "drive.mount('/content/drive')"
      ],
      "execution_count": 1,
      "outputs": [
        {
          "output_type": "stream",
          "text": [
            "Drive already mounted at /content/drive; to attempt to forcibly remount, call drive.mount(\"/content/drive\", force_remount=True).\n"
          ],
          "name": "stdout"
        }
      ]
    },
    {
      "cell_type": "markdown",
      "metadata": {
        "id": "JABOAAX2Elwi"
      },
      "source": [
        "### Importamos librerías necesarias"
      ]
    },
    {
      "cell_type": "code",
      "metadata": {
        "id": "z90eBu7Mh1_Q"
      },
      "source": [
        "import json\n",
        "import pandas as pd\n",
        "import os"
      ],
      "execution_count": 2,
      "outputs": []
    },
    {
      "cell_type": "markdown",
      "metadata": {
        "id": "Q7AONffLYK3d"
      },
      "source": [
        "### Definimos una función que devolverá el contenido que necesitamos del archivo JSON que le pasemos"
      ]
    },
    {
      "cell_type": "code",
      "metadata": {
        "id": "uJtWpjmGYP2e"
      },
      "source": [
        "def readJson(file):\n",
        "    jsonFile = open(RUTA_JSON + file, \"r\", encoding=\"utf8\")\n",
        "    jsonData = jsonFile.read()\n",
        "    jsonData = json.loads(jsonData)\n",
        "    jsonData = jsonData['content']\n",
        "    return jsonData"
      ],
      "execution_count": 3,
      "outputs": []
    },
    {
      "cell_type": "markdown",
      "metadata": {
        "id": "OS0pw_5utNeM"
      },
      "source": [
        "### Definimos una función que devolverá un diccionario con los valores de clasificación para cada categoría"
      ]
    },
    {
      "cell_type": "code",
      "metadata": {
        "id": "LQoIN0W5tKNF"
      },
      "source": [
        "def readClassifications(booleanClassifications):\n",
        "    classifications = {}\n",
        "\n",
        "    for c in categories:\n",
        "        try:\n",
        "            classifications[c] = int(\n",
        "                booleanClassifications[c][\"value\"] == \"TRUE\")\n",
        "            pass\n",
        "        except Exception:\n",
        "            classifications[c] = 0\n",
        "            pass\n",
        "\n",
        "    classifications[\"not applicable\"] = 1 if(sum(classifications.values()) == 0) else 0\n",
        "\n",
        "    return classifications"
      ],
      "execution_count": 4,
      "outputs": []
    },
    {
      "cell_type": "markdown",
      "metadata": {
        "id": "X55XIRRTt3Vk"
      },
      "source": [
        "### Definimos una función que devolverá un dataframe con los datos que necesitamos del archivo json que pasemos como parámetro "
      ]
    },
    {
      "cell_type": "code",
      "metadata": {
        "id": "6RVJe-e3t2gN"
      },
      "source": [
        "def generateDataframe(file):\n",
        "    jsonData = readJson(file)\n",
        "    file = file.replace('.json', '')\n",
        "    columns = ['sentences'] + categories\n",
        "    db = pd.DataFrame(columns=columns)\n",
        "\n",
        "    for element in jsonData:\n",
        "        sentence = element['sentence']\n",
        "        classification = readClassifications(element['booleanClassifications'])\n",
        "        row = {\n",
        "            'sentences': sentence,\n",
        "        }\n",
        "        for c in categories:\n",
        "            row[c] = classification[c]\n",
        "\n",
        "        db = db.append(row, ignore_index=True)\n",
        "\n",
        "    return db"
      ],
      "execution_count": 5,
      "outputs": []
    },
    {
      "cell_type": "markdown",
      "metadata": {
        "id": "hfDPgy1BuRrp"
      },
      "source": [
        "### El siguiente código se encarga de generar el archivo excel que será nuestra base de datos"
      ]
    },
    {
      "cell_type": "code",
      "metadata": {
        "id": "Ft0H3a-2iIBx",
        "colab": {
          "base_uri": "https://localhost:8080/"
        },
        "outputId": "aabfc85e-8518-4fbc-8146-7541b6a8598c"
      },
      "source": [
        "RUTA_JSON = \"./drive/My Drive/nfr-extraction/json/\"\n",
        "RUTA_DB = \"./drive/My Drive/nfr-extraction/\"\n",
        "\n",
        "files = os.listdir(RUTA_JSON)\n",
        "\n",
        "categories = [\n",
        "    \"access control\", \"audit\", \"availability\", \"legal\", \"look and feel\",\n",
        "    \"maintainability\", \"operational\", \"privacy\", \"recoverability\", \"capacity and performance\",\n",
        "    \"reliability\", \"security\", \"usability\", \"other nonfunctional\", \"functional\", \"not applicable\"\n",
        "]\n",
        "\n",
        "columns = ['sentences'] + categories\n",
        "\n",
        "db = pd.DataFrame(columns=columns)\n",
        "\n",
        "for file in files:\n",
        "    print(\"Procesando\", file, \"...\")\n",
        "    db = db.append(generateDataframe(file), ignore_index=True)\n",
        "\n",
        "db.to_excel(RUTA_DB + \"db.xlsx\")\n",
        "print(\"\\n¡Base de datos generada con éxito!\")"
      ],
      "execution_count": 6,
      "outputs": [
        {
          "output_type": "stream",
          "text": [
            "Procesando CCHIT.json ...\n",
            "Procesando CMS-DUA.json ...\n",
            "Procesando EMR-RFP.json ...\n",
            "Procesando HIPAA.json ...\n",
            "Procesando LACountyEHR_Requirements.json ...\n",
            "Procesando Meaningful.json ...\n",
            "Procesando NC_DETECT_DUA.json ...\n",
            "Procesando OpenEMR_4.1_Users_Guide.json ...\n",
            "Procesando OpenEMR_4_1_1_Linux_Installation.json ...\n",
            "Procesando eCFR.json ...\n",
            "Procesando iTrust.json ...\n",
            "Procesando promisedataALL.json ...\n",
            "¡Base de datos generada con éxito!\n"
          ],
          "name": "stdout"
        }
      ]
    }
  ]
}