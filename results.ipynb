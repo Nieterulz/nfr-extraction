{
  "nbformat": 4,
  "nbformat_minor": 0,
  "metadata": {
    "colab": {
      "name": "results.ipynb",
      "provenance": [],
      "collapsed_sections": [],
      "toc_visible": true
    },
    "kernelspec": {
      "display_name": "Python 3",
      "name": "python3"
    },
    "widgets": {
      "application/vnd.jupyter.widget-state+json": {
        "93a1281f58584eb2b21078d6f36d27c9": {
          "model_module": "@jupyter-widgets/controls",
          "model_name": "DropdownModel",
          "state": {
            "_options_labels": [
              "SVM núcleo lineal",
              "K-NN con k=1",
              "Clasificador bayesiano ingenuo",
              "Bosque aleatorio"
            ],
            "_view_name": "DropdownView",
            "style": "IPY_MODEL_c0ce18e3645f4f1897a46aae07b09158",
            "_dom_classes": [],
            "description": "",
            "_model_name": "DropdownModel",
            "index": 0,
            "_view_module": "@jupyter-widgets/controls",
            "_model_module_version": "1.5.0",
            "_view_count": null,
            "disabled": false,
            "_view_module_version": "1.5.0",
            "description_tooltip": null,
            "_model_module": "@jupyter-widgets/controls",
            "layout": "IPY_MODEL_f28aba53b49b4dba8cab94da3ba5bf1c"
          }
        },
        "c0ce18e3645f4f1897a46aae07b09158": {
          "model_module": "@jupyter-widgets/controls",
          "model_name": "DescriptionStyleModel",
          "state": {
            "_view_name": "StyleView",
            "_model_name": "DescriptionStyleModel",
            "description_width": "",
            "_view_module": "@jupyter-widgets/base",
            "_model_module_version": "1.5.0",
            "_view_count": null,
            "_view_module_version": "1.2.0",
            "_model_module": "@jupyter-widgets/controls"
          }
        },
        "f28aba53b49b4dba8cab94da3ba5bf1c": {
          "model_module": "@jupyter-widgets/base",
          "model_name": "LayoutModel",
          "state": {
            "_view_name": "LayoutView",
            "grid_template_rows": null,
            "right": null,
            "justify_content": null,
            "_view_module": "@jupyter-widgets/base",
            "overflow": null,
            "_model_module_version": "1.2.0",
            "_view_count": null,
            "flex_flow": null,
            "width": null,
            "min_width": null,
            "border": null,
            "align_items": null,
            "bottom": null,
            "_model_module": "@jupyter-widgets/base",
            "top": null,
            "grid_column": null,
            "overflow_y": null,
            "overflow_x": null,
            "grid_auto_flow": null,
            "grid_area": null,
            "grid_template_columns": null,
            "flex": null,
            "_model_name": "LayoutModel",
            "justify_items": null,
            "grid_row": null,
            "max_height": null,
            "align_content": null,
            "visibility": null,
            "align_self": null,
            "height": null,
            "min_height": null,
            "padding": null,
            "grid_auto_rows": null,
            "grid_gap": null,
            "max_width": null,
            "order": null,
            "_view_module_version": "1.2.0",
            "grid_template_areas": null,
            "object_position": null,
            "object_fit": null,
            "grid_auto_columns": null,
            "margin": null,
            "display": null,
            "left": null
          }
        }
      }
    }
  },
  "cells": [
    {
      "cell_type": "markdown",
      "metadata": {
        "id": "4rsQKXx3-HtU"
      },
      "source": [
        "# Resultados\n",
        "En este notebook nos encargamos de entrenar los modelos y mostrar resultados para cada uno de ellos. Mostraremos precisión, sensibilidad y F1 para cada categoría así como la media que estos ofrecen.\n",
        "\n",
        "### Activamos Drive\n"
      ]
    },
    {
      "cell_type": "code",
      "metadata": {
        "colab": {
          "base_uri": "https://localhost:8080/"
        },
        "id": "ECe6jSgYIXaw",
        "outputId": "4d0d58c6-7aa7-498a-b0d9-b6894b5c70b9"
      },
      "source": [
        "from google.colab import drive\n",
        "drive.mount('/content/drive')"
      ],
      "execution_count": 1,
      "outputs": [
        {
          "output_type": "stream",
          "text": [
            "Drive already mounted at /content/drive; to attempt to forcibly remount, call drive.mount(\"/content/drive\", force_remount=True).\n"
          ],
          "name": "stdout"
        }
      ]
    },
    {
      "cell_type": "markdown",
      "metadata": {
        "id": "gKwHPcePG__B"
      },
      "source": [
        "### Importamos librerías necesarias\n",
        "\n"
      ]
    },
    {
      "cell_type": "code",
      "metadata": {
        "id": "uLdx4qGNpt4M",
        "colab": {
          "base_uri": "https://localhost:8080/"
        },
        "outputId": "39437b54-7123-4924-a6cb-ccceb0d67189"
      },
      "source": [
        "import pandas as pd\n",
        "import numpy as np\n",
        "import random\n",
        "import math\n",
        "import re\n",
        "import warnings\n",
        "import ipywidgets as widgets\n",
        "\n",
        "from sklearn.feature_extraction.text import TfidfVectorizer\n",
        "from sklearn.model_selection import train_test_split\n",
        "from sklearn.neighbors import KNeighborsClassifier\n",
        "from sklearn import svm, naive_bayes\n",
        "from sklearn.ensemble import RandomForestClassifier\n",
        "from sklearn.metrics import precision_score, recall_score, f1_score\n",
        "\n",
        "import nltk\n",
        "from nltk.corpus import wordnet\n",
        "\n",
        "nltk.download('punkt')\n",
        "nltk.download('stopwords')\n",
        "nltk.download('wordnet')\n",
        "nltk.download('averaged_perceptron_tagger')"
      ],
      "execution_count": 2,
      "outputs": [
        {
          "output_type": "stream",
          "text": [
            "[nltk_data] Downloading package punkt to /root/nltk_data...\n",
            "[nltk_data]   Unzipping tokenizers/punkt.zip.\n",
            "[nltk_data] Downloading package stopwords to /root/nltk_data...\n",
            "[nltk_data]   Unzipping corpora/stopwords.zip.\n",
            "[nltk_data] Downloading package wordnet to /root/nltk_data...\n",
            "[nltk_data]   Unzipping corpora/wordnet.zip.\n",
            "[nltk_data] Downloading package averaged_perceptron_tagger to\n",
            "[nltk_data]     /root/nltk_data...\n",
            "[nltk_data]   Unzipping taggers/averaged_perceptron_tagger.zip.\n"
          ],
          "name": "stdout"
        },
        {
          "output_type": "execute_result",
          "data": {
            "text/plain": [
              "True"
            ]
          },
          "metadata": {
            "tags": []
          },
          "execution_count": 2
        }
      ]
    },
    {
      "cell_type": "markdown",
      "metadata": {
        "id": "bxlDaxe35Dr5"
      },
      "source": [
        "### Definimos función que nos dice si una palabra es un adjetivo, un nombre, un verbo o un advervio"
      ]
    },
    {
      "cell_type": "code",
      "metadata": {
        "id": "eNU5Ovw75Kpg"
      },
      "source": [
        "def get_wordnet_pos(word):\n",
        "    tag = nltk.pos_tag([word])[0][1][0].upper()\n",
        "    tag_dict = {\"J\": wordnet.ADJ,\n",
        "                \"N\": wordnet.NOUN,\n",
        "                \"V\": wordnet.VERB,\n",
        "                \"R\": wordnet.ADV}\n",
        "\n",
        "    return tag_dict.get(tag, wordnet.NOUN)"
      ],
      "execution_count": 4,
      "outputs": []
    },
    {
      "cell_type": "markdown",
      "metadata": {
        "id": "cn-uQDOuQTfB"
      },
      "source": [
        "### Definimos función que preprocesa la base de datos"
      ]
    },
    {
      "cell_type": "code",
      "metadata": {
        "id": "ylXmtBMfqPKh"
      },
      "source": [
        "def preprocess(sentence):\n",
        "    # Convertimos a minúsculas\n",
        "    new_text = sentence.lower()\n",
        "    \n",
        "    # Eliminamos puntuación\n",
        "    new_text = re.sub(r'[^\\w\\s]', '', new_text)\n",
        "\n",
        "    # Reemplazamos números por #s\n",
        "    if bool(re.search(r'\\d', new_text)):\n",
        "        new_text = re.sub('[0-9]{5,}', '#####', new_text)\n",
        "        new_text = re.sub('[0-9]{4}', '####', new_text)\n",
        "        new_text = re.sub('[0-9]{3}', '###', new_text)\n",
        "        new_text = re.sub('[0-9]{2}', '##', new_text)\n",
        "        new_text = re.sub('[0-9]{1}', '#', new_text)\n",
        "\n",
        "    # Dividimos en tokens\n",
        "    tokens = nltk.tokenize.TreebankWordTokenizer().tokenize(new_text)\n",
        "\n",
        "    # Eliminamos stopwords\n",
        "    tokens = [word for word in tokens if not word in nltk.corpus.stopwords.words('english')]\n",
        "\n",
        "\n",
        "    # Stemming\n",
        "    # stemmer = nltk.stem.PorterStemmer()\n",
        "    # new_text = ' '.join([stemmer.stem(w) for w in tokens])\n",
        "    \n",
        "    # lemma\n",
        "    lemmatizer = nltk.stem.WordNetLemmatizer()\n",
        "    new_text = ' '.join([lemmatizer.lemmatize(w, get_wordnet_pos(w)) for w in tokens])\n",
        "\n",
        "    # new_text = ' '.join([w for w in tokens])\n",
        "\n",
        "    return new_text"
      ],
      "execution_count": 5,
      "outputs": []
    },
    {
      "cell_type": "markdown",
      "metadata": {
        "id": "K_d1MNwLQbnJ"
      },
      "source": [
        "### Definimos función que transforma el texto preprocesado en un vector de números"
      ]
    },
    {
      "cell_type": "code",
      "metadata": {
        "id": "t8-SMYxLQjlz"
      },
      "source": [
        "def useTfIdf(db, i_test, f_test):\n",
        "    train = db.drop(range(i_test, f_test))\n",
        "    test = db[i_test:f_test]\n",
        "\n",
        "    vectorizer = TfidfVectorizer()\n",
        "\n",
        "    vectorizer.fit(list(train['sentences'].values))\n",
        "\n",
        "    x_train = vectorizer.transform(list(train['sentences'].values))\n",
        "    y_train = train.drop(labels=['sentences'], axis=1)\n",
        "    x_test = vectorizer.transform(list(test['sentences'].values))\n",
        "    y_test = test.drop(labels=['sentences'], axis=1)\n",
        "\n",
        "    return x_train, y_train, x_test, y_test"
      ],
      "execution_count": 6,
      "outputs": []
    },
    {
      "cell_type": "markdown",
      "metadata": {
        "id": "-IVNfQm16AHl"
      },
      "source": [
        "### Seleccionamos el modelo que queremos utilizar. Por defecto se utilizará SVM."
      ]
    },
    {
      "cell_type": "code",
      "metadata": {
        "colab": {
          "base_uri": "https://localhost:8080/",
          "height": 67,
          "referenced_widgets": [
            "93a1281f58584eb2b21078d6f36d27c9",
            "c0ce18e3645f4f1897a46aae07b09158",
            "f28aba53b49b4dba8cab94da3ba5bf1c"
          ]
        },
        "id": "6e-rg-Od6IKJ",
        "outputId": "9f7232dc-df99-4368-ca33-80eee607970e"
      },
      "source": [
        "model_list = [('SVM núcleo lineal', 0), ('K-NN con k=1', 1), ('Clasificador bayesiano ingenuo', 2), ('Bosque aleatorio', 3)]\n",
        "model_picker = widgets.Dropdown(options=model_list)\n",
        "print(\"Selecciona un modelo: \")\n",
        "model_picker"
      ],
      "execution_count": 24,
      "outputs": [
        {
          "output_type": "stream",
          "text": [
            "Selecciona un modelo: \n"
          ],
          "name": "stdout"
        },
        {
          "output_type": "display_data",
          "data": {
            "application/vnd.jupyter.widget-view+json": {
              "model_id": "93a1281f58584eb2b21078d6f36d27c9",
              "version_minor": 0,
              "version_major": 2
            },
            "text/plain": [
              "Dropdown(options=(('SVM núcleo lineal', 0), ('K-NN con k=1', 1), ('Clasificador bayesiano ingenuo', 2), ('Bosq…"
            ]
          },
          "metadata": {
            "tags": []
          }
        }
      ]
    },
    {
      "cell_type": "markdown",
      "metadata": {
        "id": "n7vQn1pQA_Xx"
      },
      "source": [
        "### Cargamos y preprocesamos la base de datos"
      ]
    },
    {
      "cell_type": "code",
      "metadata": {
        "id": "0OPFzy0jBAj5"
      },
      "source": [
        "# Cargamos base de datos\n",
        "RUTA_DB = \"./drive/My Drive/nfr-extraction/db.xlsx\"\n",
        "db = pd.read_excel(RUTA_DB)\n",
        "\n",
        "# Definimos categorías existentes\n",
        "categories = [\n",
        "        \"access control\", \"audit\", \"availability\", \"legal\", \"look and feel\",\n",
        "        \"maintainability\", \"operational\", \"privacy\", \"recoverability\", \"capacity and performance\",\n",
        "        \"reliability\", \"security\", \"usability\", \"other nonfunctional\", \"functional\", \"not applicable\"\n",
        "    ]\n",
        "\n",
        "# Preprocesmos los elementos de la base de datos y barajamos de forma aleatoria\n",
        "db['sentences'] = db['sentences'].apply(preprocess)\n",
        "db = db.dropna()\n",
        "db = db.sample(frac=1).reset_index(drop=True)"
      ],
      "execution_count": 35,
      "outputs": []
    },
    {
      "cell_type": "markdown",
      "metadata": {
        "id": "ToMTS1n9Qn1m"
      },
      "source": [
        "### Entrenamos modelo, validamos y mostramos resultados de precisión, sensibilidad y F1"
      ]
    },
    {
      "cell_type": "code",
      "metadata": {
        "id": "wIber3M3vASL",
        "colab": {
          "base_uri": "https://localhost:8080/",
          "height": 790
        },
        "outputId": "7b63b52c-6df6-4d01-c3a4-3230f37dc93b"
      },
      "source": [
        "# Suprimimos posibles alertas\n",
        "warnings.filterwarnings(\"ignore\") \n",
        "\n",
        "# Definimos lista con los posibles modelos\n",
        "models = [svm.LinearSVC(), KNeighborsClassifier(n_neighbors=1), naive_bayes.MultinomialNB(), RandomForestClassifier(n_jobs=-1)]\n",
        "# Escogemos el modelo que vamos a utilizar\n",
        "model = models[model_picker.value]\n",
        "\n",
        "# Definimos variables necesarias para el almacenamiento de los resultados\n",
        "k = 10\n",
        "mean_precision = [[0]*16]*k\n",
        "mean_recall = [[0]*16]*k\n",
        "mean_f1score = [[0]*16]*k\n",
        "i_test = 0 \n",
        "f_test = math.floor(len(db)/k)\n",
        "\n",
        "# Iteramos k veces (Validación cruzada con k = 10)\n",
        "for index_k in range(k):\n",
        "    print(\"\\nIteración\", index_k+1, end='')\n",
        "    # Definimos variables de precisión, sensibilidad y F1 para esta iteración \n",
        "    precision = [0]*len(categories)\n",
        "    recall = [0]*len(categories)\n",
        "    f1score = [0]*len(categories)\n",
        "\n",
        "    # Dividimos en datos de entrenamiento y test\n",
        "    x_train, y_train, x_test, y_test = useTfIdf(db, i_test, f_test)\n",
        "\n",
        "    i = 0\n",
        "    # Para cada categoría\n",
        "    for category in categories:\n",
        "        print('.', end='.')\n",
        "        # Entrenamos el modelo\n",
        "        model.fit(x_train, y_train[category])\n",
        "        # Realizamos predicción para conjunto de prueba\n",
        "        prediction = model.predict(x_test)\n",
        "        # Obtenemos resultados\n",
        "        precision[i] += precision_score(list(y_test[category].values), prediction)\n",
        "        recall[i] += recall_score(list(y_test[category].values), prediction)\n",
        "        f1score[i] += f1_score(list(y_test[category].values), prediction)\n",
        "        i += 1\n",
        "    \n",
        "    i_test = f_test\n",
        "    f_test = i_test + math.floor(len(db)/k)\n",
        "    \n",
        "    mean_precision[index_k] = precision\n",
        "    mean_recall[index_k] = recall\n",
        "    mean_f1score[index_k] = f1score\n",
        "\n",
        "# Mostramos resultados agrupados en un dataframe de pandas\n",
        "p = list(np.average(mean_precision, axis=0))\n",
        "rounded_p = [round(elem, 2) for elem in p]\n",
        "r = list(np.average(mean_recall, axis=0))\n",
        "rounded_r = [round(elem, 2) for elem in r]\n",
        "f1 = list(np.average(mean_f1score, axis=0))\n",
        "rounded_f1 = [round(elem, 2) for elem in f1]\n",
        "data = {\n",
        "    \" \": categories + ['MICRO AVG'],\n",
        "    \"Precision\": rounded_p + [np.average(rounded_p)],\n",
        "    \"Recall\": rounded_r + [np.average(rounded_r)],\n",
        "    \"F1\": rounded_f1 + [np.average(rounded_f1)]\n",
        "}\n",
        "print(\"\\nLos resultados para el modelo seleccionado son:\")\n",
        "pd.options.display.float_format = \"{:,.2f}\".format\n",
        "pd.DataFrame(data).set_index(' ')\n"
      ],
      "execution_count": 42,
      "outputs": [
        {
          "output_type": "stream",
          "text": [
            "\n",
            "Iteración 1................................\n",
            "Iteración 2................................\n",
            "Iteración 3................................\n",
            "Iteración 4................................\n",
            "Iteración 5................................\n",
            "Iteración 6................................\n",
            "Iteración 7................................\n",
            "Iteración 8................................\n",
            "Iteración 9................................\n",
            "Iteración 10................................\n",
            "Los resultados para el modelo seleccionado son:\n"
          ],
          "name": "stdout"
        },
        {
          "output_type": "execute_result",
          "data": {
            "text/html": [
              "<div>\n",
              "<style scoped>\n",
              "    .dataframe tbody tr th:only-of-type {\n",
              "        vertical-align: middle;\n",
              "    }\n",
              "\n",
              "    .dataframe tbody tr th {\n",
              "        vertical-align: top;\n",
              "    }\n",
              "\n",
              "    .dataframe thead th {\n",
              "        text-align: right;\n",
              "    }\n",
              "</style>\n",
              "<table border=\"1\" class=\"dataframe\">\n",
              "  <thead>\n",
              "    <tr style=\"text-align: right;\">\n",
              "      <th></th>\n",
              "      <th>Precision</th>\n",
              "      <th>Recall</th>\n",
              "      <th>F1</th>\n",
              "    </tr>\n",
              "    <tr>\n",
              "      <th></th>\n",
              "      <th></th>\n",
              "      <th></th>\n",
              "      <th></th>\n",
              "    </tr>\n",
              "  </thead>\n",
              "  <tbody>\n",
              "    <tr>\n",
              "      <th>access control</th>\n",
              "      <td>0.78</td>\n",
              "      <td>0.63</td>\n",
              "      <td>0.70</td>\n",
              "    </tr>\n",
              "    <tr>\n",
              "      <th>audit</th>\n",
              "      <td>0.77</td>\n",
              "      <td>0.47</td>\n",
              "      <td>0.58</td>\n",
              "    </tr>\n",
              "    <tr>\n",
              "      <th>availability</th>\n",
              "      <td>0.78</td>\n",
              "      <td>0.34</td>\n",
              "      <td>0.45</td>\n",
              "    </tr>\n",
              "    <tr>\n",
              "      <th>legal</th>\n",
              "      <td>0.85</td>\n",
              "      <td>0.47</td>\n",
              "      <td>0.60</td>\n",
              "    </tr>\n",
              "    <tr>\n",
              "      <th>look and feel</th>\n",
              "      <td>0.83</td>\n",
              "      <td>0.36</td>\n",
              "      <td>0.48</td>\n",
              "    </tr>\n",
              "    <tr>\n",
              "      <th>maintainability</th>\n",
              "      <td>0.84</td>\n",
              "      <td>0.47</td>\n",
              "      <td>0.60</td>\n",
              "    </tr>\n",
              "    <tr>\n",
              "      <th>operational</th>\n",
              "      <td>0.77</td>\n",
              "      <td>0.38</td>\n",
              "      <td>0.50</td>\n",
              "    </tr>\n",
              "    <tr>\n",
              "      <th>privacy</th>\n",
              "      <td>0.80</td>\n",
              "      <td>0.46</td>\n",
              "      <td>0.58</td>\n",
              "    </tr>\n",
              "    <tr>\n",
              "      <th>recoverability</th>\n",
              "      <td>0.77</td>\n",
              "      <td>0.47</td>\n",
              "      <td>0.57</td>\n",
              "    </tr>\n",
              "    <tr>\n",
              "      <th>capacity and performance</th>\n",
              "      <td>0.87</td>\n",
              "      <td>0.54</td>\n",
              "      <td>0.65</td>\n",
              "    </tr>\n",
              "    <tr>\n",
              "      <th>reliability</th>\n",
              "      <td>0.30</td>\n",
              "      <td>0.08</td>\n",
              "      <td>0.12</td>\n",
              "    </tr>\n",
              "    <tr>\n",
              "      <th>security</th>\n",
              "      <td>0.80</td>\n",
              "      <td>0.53</td>\n",
              "      <td>0.64</td>\n",
              "    </tr>\n",
              "    <tr>\n",
              "      <th>usability</th>\n",
              "      <td>0.91</td>\n",
              "      <td>0.40</td>\n",
              "      <td>0.53</td>\n",
              "    </tr>\n",
              "    <tr>\n",
              "      <th>other nonfunctional</th>\n",
              "      <td>0.48</td>\n",
              "      <td>0.13</td>\n",
              "      <td>0.19</td>\n",
              "    </tr>\n",
              "    <tr>\n",
              "      <th>functional</th>\n",
              "      <td>0.88</td>\n",
              "      <td>0.84</td>\n",
              "      <td>0.86</td>\n",
              "    </tr>\n",
              "    <tr>\n",
              "      <th>not applicable</th>\n",
              "      <td>0.91</td>\n",
              "      <td>0.92</td>\n",
              "      <td>0.92</td>\n",
              "    </tr>\n",
              "    <tr>\n",
              "      <th>MICRO AVG</th>\n",
              "      <td>0.77</td>\n",
              "      <td>0.47</td>\n",
              "      <td>0.56</td>\n",
              "    </tr>\n",
              "  </tbody>\n",
              "</table>\n",
              "</div>"
            ],
            "text/plain": [
              "                          Precision  Recall   F1\n",
              "                                                \n",
              "access control                 0.78    0.63 0.70\n",
              "audit                          0.77    0.47 0.58\n",
              "availability                   0.78    0.34 0.45\n",
              "legal                          0.85    0.47 0.60\n",
              "look and feel                  0.83    0.36 0.48\n",
              "maintainability                0.84    0.47 0.60\n",
              "operational                    0.77    0.38 0.50\n",
              "privacy                        0.80    0.46 0.58\n",
              "recoverability                 0.77    0.47 0.57\n",
              "capacity and performance       0.87    0.54 0.65\n",
              "reliability                    0.30    0.08 0.12\n",
              "security                       0.80    0.53 0.64\n",
              "usability                      0.91    0.40 0.53\n",
              "other nonfunctional            0.48    0.13 0.19\n",
              "functional                     0.88    0.84 0.86\n",
              "not applicable                 0.91    0.92 0.92\n",
              "MICRO AVG                      0.77    0.47 0.56"
            ]
          },
          "metadata": {
            "tags": []
          },
          "execution_count": 42
        }
      ]
    }
  ]
}